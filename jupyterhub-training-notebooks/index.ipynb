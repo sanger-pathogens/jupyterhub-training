{
 "cells": [
  {
   "cell_type": "markdown",
   "metadata": {},
   "source": [
    "# JupyterHub Training\n",
    "\n",
    "## Introduction\n",
    "\n",
    "Welcome to JupyterHub! This platform allows you to access Pathogen Informatics training through a webpage, with all of the software you need for the tutorials already available. This guide gives you an introduction to using JupyterHub and running the training modules supplied. For more advanced users, looking to create their own training, there is also a section explaining how to go about this.\n",
    "\n",
    "## Sections \n",
    "**These two sections are the basics you will need for running Pathogen Informatics Training** :   \n",
    "\n",
    "  1. [The Basics of Using JupyterHub](basics.ipynb)   \n",
    "  2. [Running Pathogen Informatics Training Modules on JupyterHub](running-training.ipynb)   \n",
    "\n",
    "**This section is only relevant to people looking to develop their own training on Jupyterhub**: \n",
    "\n",
    "  3. [Developing New Training for JupyterHub](developing-training.ipynb) \n",
    "  \n",
    "## Authors\n",
    "This tutorial was created by [Kathryn Murie](https://github.com/kathryn1995).\n",
    "\n",
    "## Let’s get started!\n",
    "To get started with the tutorial, head to the first section: [JupyterHub basics](basics.ipynb)\n"
   ]
  }
 ],
 "metadata": {
  "kernelspec": {
   "display_name": "Bash",
   "language": "bash",
   "name": "bash"
  },
  "language_info": {
   "codemirror_mode": "shell",
   "file_extension": ".sh",
   "mimetype": "text/x-sh",
   "name": "bash"
  }
 },
 "nbformat": 4,
 "nbformat_minor": 2
}
