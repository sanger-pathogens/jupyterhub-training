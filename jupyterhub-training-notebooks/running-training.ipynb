{
 "cells": [
  {
   "cell_type": "markdown",
   "metadata": {},
   "source": [
    "## Getting started \n",
    "As you will have seen, when you log into jupyterhub with your sanger ID and password you are presented with a list of training courses to choose from. Selecting which one you would like to start will launch a new server. All of the software you will need for the course will be loaded and you should see a directory named after the training course you selected. Go into this directory and right click on the README.md file select open with > markdown to read the file. This file will give an in depth description of the course and information on getting started. \n",
    "\n",
    "## How to switch courses\n",
    "Select from the top dropdown File > Hub Control Panel and click stop my server. Then click ‘start my server’ and select which course you would like to start. \n",
    "This will load all of the software you need and sync the notebooks. However, you will still be able to see the notebooks from other courses that you have been working on. \n",
    "\n",
    "## Starting again \n",
    "If you want to get rid of the changes you have made you can delete the file/directory and reload the course (described in How to switch courses). This will load the original versions of the files. \n"
   ]
  }
 ],
 "metadata": {
  "kernelspec": {
   "display_name": "Bash",
   "language": "bash",
   "name": "bash"
  },
  "language_info": {
   "codemirror_mode": "shell",
   "file_extension": ".sh",
   "mimetype": "text/x-sh",
   "name": "bash"
  }
 },
 "nbformat": 4,
 "nbformat_minor": 2
}
