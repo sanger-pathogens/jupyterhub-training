{
 "cells": [
  {
   "cell_type": "markdown",
   "metadata": {},
   "source": [
    "# Running the Training \n",
    "\n",
    "This notebook guides you through how to get started with each of the training modules. Some tips are also included for more advanced things you may want to do. If you need any more information on anything please get in touch with the Pathogen Informatics team.\n",
    "\n",
    "## Getting started \n",
    "As you will have seen, when you log into jupyterhub with your sanger ID and password you are presented with a list of training courses to choose from. Selecting which one you would like to start will launch a new server. \n",
    "\n",
    "<img src=\"../images/server_options.png\" alt=\"Drawing\" style=\"width: 700px;\"/>\n",
    "\n",
    "All of the software you will need for the course will be loaded and you should see a directory named after the training course you selected. \n",
    "\n",
    "When starting any training course you will always do the same thing. Navigate into the directory named after the course in the left hand panel, then right click on the README.md file, select _open with -> markdown_. \n",
    "\n",
    "<img src=\"../images/open_readme.png\" alt=\"Drawing\" style=\"width: 700px;\"/>\n",
    "\n",
    "This file will give an in depth description of the course and information on getting started. \n",
    "\n",
    "## How to switch courses\n",
    "Select from the top menu _File -> Hub Control Panel_. \n",
    "\n",
    "<img src=\"../images/open_control_panel.png\" alt=\"Drawing\" style=\"width: 700px;\"/>\n",
    "\n",
    "The control panel will open. Click _'Stop My Server'_.\n",
    "\n",
    "<img src=\"../images/stop_server.png\" alt=\"Drawing\" style=\"width: 700px;\"/>\n",
    "\n",
    "Then click _‘Start My Server’_ followed by _'Launch Server'_. \n",
    "\n",
    "<img src=\"../images/start_server.png\" alt=\"Drawing\" style=\"width: 700px;\"/>\n",
    "<img src=\"../images/launch_server.png\" alt=\"Drawing\" style=\"width: 700px;\"/>\n",
    "\n",
    "You will then be presented with the course options. Selecting a new course will load all of the software you need and sync the notebooks to the current version available. \n",
    "\n",
    "**Note:** If you have already done some work on this course, your progress will be saved. Updates that we have added to the training will be added in, but only if it doesn't change the work you have done.  \n",
    "**Note:** You will still be able to see the notebooks from other courses that you have been working on. If you are done with these we recommend deleting them. You can load the notebooks from other courses if you wish to look back at the content, however due to being in a different courses environment, you may not be able to run all of the commands. It is best to only run notebooks from the course that you are in. \n",
    "\n",
    "## Removing a tutorial \n",
    "You must remove tutorials from a terminal as the left hand navigation panel will not let you remove any non-empty directories. See the section _'Opening a terminal'_ in the [JupyterHub basics](basics.ipynb) tutorial for more information. Then run the following command in the terminal, replacing `TUTORIAL_NAME` with the name of the tutorial you would like to remove.\n",
    "\n",
    "`rm -rf ~/TUTORIAL_NAME`\n",
    "\n",
    "## Starting again \n",
    "If you want to get rid of the changes you have made to notebooks and go back to the original version you can simply delete the file/directory and reload the course (described above). This will load the original versions of the files that you have removed. For information on removing a whole tutorial see the section above. To just revert a specific file to the original open a terminal (See the section _'Opening a terminal'_ in the [JupyterHub basics](basics.ipynb) tutorial) and run the following command\n",
    "\n",
    "`rm -rf ~/PATH/TO/FILE`\n",
    "\n",
    "You will need to replace `~/PATH/TO/FILE` with the path to the file or directory you would like to remove \n",
    "\n",
    "**Note**: This will not bring back any of your own files that you have removed. Only the ones originally included in the training.\n",
    "\n",
    "If you need any help with any of the above please contact Pathogen Informatics "
   ]
  }
 ],
 "metadata": {
  "kernelspec": {
   "display_name": "Bash",
   "language": "bash",
   "name": "bash"
  },
  "language_info": {
   "codemirror_mode": "shell",
   "file_extension": ".sh",
   "mimetype": "text/x-sh",
   "name": "bash"
  }
 },
 "nbformat": 4,
 "nbformat_minor": 2
}
