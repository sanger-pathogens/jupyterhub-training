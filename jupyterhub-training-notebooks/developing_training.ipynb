{
 "cells": [
  {
   "cell_type": "markdown",
   "metadata": {},
   "source": [
    "# Developing Training \n",
    "\n",
    "This tutorial covers how to develop training that can be run on the JupyterHub training platform. Before starting please contact the Pathogen Informatics team to see if it is something we could support. \n",
    "\n",
    "## Technologies\n",
    "\n",
    "* GitHub \n",
    "* JupyterHub \n",
    "* JupyterNotebook \n",
    "\n",
    "## Getting started \n",
    "\n",
    "Before starting please make sure you have gone through the previous 2 notebooks; [JupyterHub basics](basics.ipynb) and [Running training](running-training.ipynb) so that you are familiar with the JupyterLab interface and how a training course should be laid out. \n",
    "\n",
    "The training notebooks need to be contained in a public github repository. For an example please see [here](https://github.com/sanger-pathogens/jupyterhub-training). The head directory should contain a README.md file which is the first file the user will look at. This should contain an overview of the course and a link to the notebook that you want the user to start in. You should also include a .gitignore file containing all of the files that you don't want to push to the repository. In this file add the following line \n",
    "  \n",
    "`*.ipynb_checkpoints/`\n",
    "\n",
    "Files are created in the .ipynb_checkpoints directory as a back up when you make changes. Due to the fact that you are putting these under version control in GitHub you don't need these files, which is why you include this line in your .gitignore file.\n",
    "\n",
    "## Running the notebook on JupyterHub\n",
    "\n",
    "When developing new training you should use the 'Minimal environment' option when selecting which server to run. \n",
    "Open a terminal and clone the git repository. You can then work on developing your notebooks. You should make a note of any software that you need installed but isn't available in the minimal environment. Please stay in contact with Pathogen Informatics about what you need installed, we can't guarantee that we can install everything. As a general rule, if it is available on the farm/pcs6 we _should_ be able to install it.\n",
    "\n",
    "When you are ready, contact Pathogen Informatics and will add it as a profile option for people when launching their server."
   ]
  }
 ],
 "metadata": {
  "kernelspec": {
   "display_name": "Bash",
   "language": "bash",
   "name": "bash"
  },
  "language_info": {
   "codemirror_mode": "shell",
   "file_extension": ".sh",
   "mimetype": "text/x-sh",
   "name": "bash"
  }
 },
 "nbformat": 4,
 "nbformat_minor": 2
}
