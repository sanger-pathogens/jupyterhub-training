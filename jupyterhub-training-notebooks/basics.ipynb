{
 "cells": [
  {
   "cell_type": "markdown",
   "metadata": {},
   "source": [
    "# JupyterHub Basics \n",
    "\n",
    "This tutorial includes basic skills for using JupyterHub to run the training material. \n",
    "\n",
    "## Running a cell \n",
    "By defualt you should be in Jupyterlab when you log in. To run a cell in this format click on the cell you would like to run, then select _Run -> Run Selected Cells_ from the top bar. \n",
    "\n",
    "Or select the cell you would like to run and click `Shift`+`Enter`\n",
    "\n",
    "Or select the cell you would like to run and click the play button at the top of the cell \n",
    "Pick your favourite method and have a go at running the cell below"
   ]
  },
  {
   "cell_type": "code",
   "execution_count": 1,
   "metadata": {},
   "outputs": [
    {
     "name": "stdout",
     "output_type": "stream",
     "text": [
      "Hello World! Congratulations, you got your first cell to run\n"
     ]
    }
   ],
   "source": [
    "echo \"Hello World! Congratulations, you got your first cell to run\""
   ]
  },
  {
   "cell_type": "markdown",
   "metadata": {},
   "source": [
    "## How to tell when things are running \n",
    "When things are running a `*` symbol will appear in the square brackets to the left of the cell. When this has finished running it will change to a number. \n",
    "Run the below cell to see this work. It should run for 5 seconds."
   ]
  },
  {
   "cell_type": "code",
   "execution_count": 5,
   "metadata": {},
   "outputs": [],
   "source": [
    "sleep 5"
   ]
  },
  {
   "cell_type": "markdown",
   "metadata": {},
   "source": [
    "## Adding extra cells\n",
    "To add in extra cells click the `+` button at the top of the jupyternotebook tab. Try adding a new cell below"
   ]
  },
  {
   "cell_type": "markdown",
   "metadata": {},
   "source": [
    "## Removing cells \n",
    "To remove a cell simply click on it and click the scissors at the top of jupyternotebook tab. Try removing the cell below "
   ]
  },
  {
   "cell_type": "code",
   "execution_count": null,
   "metadata": {},
   "outputs": [],
   "source": []
  },
  {
   "cell_type": "markdown",
   "metadata": {},
   "source": [
    "## Clearing the output from your notebook \n",
    "When you are running cells the output will be printed to the notebook. To clear this and any variables that are stored click _Edit -> Clear all Outputs_ in the top bar."
   ]
  },
  {
   "cell_type": "markdown",
   "metadata": {},
   "source": [
    "## Enable scrolling for outputs \n",
    "Sometimes when you run a command the output may be very long. To make this more readable you can enable scrolling. To do this Right click and select Enable Scrolling for Outputs. \n",
    "Try running the below cell and enable scrolling for the output"
   ]
  },
  {
   "cell_type": "code",
   "execution_count": 8,
   "metadata": {},
   "outputs": [
    {
     "name": "stdout",
     "output_type": "stream",
     "text": [
      "1\n",
      "2\n",
      "3\n",
      "4\n",
      "5\n",
      "6\n",
      "7\n",
      "8\n",
      "9\n",
      "10\n",
      "11\n",
      "12\n",
      "13\n",
      "14\n",
      "15\n",
      "16\n",
      "17\n",
      "18\n",
      "19\n",
      "20\n",
      "21\n",
      "22\n",
      "23\n",
      "24\n",
      "25\n",
      "26\n",
      "27\n",
      "28\n",
      "29\n",
      "30\n",
      "31\n",
      "32\n",
      "33\n",
      "34\n",
      "35\n",
      "36\n",
      "37\n",
      "38\n",
      "39\n",
      "40\n",
      "41\n",
      "42\n",
      "43\n",
      "44\n",
      "45\n",
      "46\n",
      "47\n",
      "48\n",
      "49\n",
      "50\n"
     ]
    }
   ],
   "source": [
    "for i in {1..50}\n",
    "do\n",
    " # your-unix-command-here\n",
    " echo $i\n",
    "done"
   ]
  },
  {
   "cell_type": "markdown",
   "metadata": {},
   "source": [
    "## Switching to the jupyter notebook format \n",
    "The instructions throughout these training modules are assuming that you are running these in the jupyterlab environment. If you wish to change to jupyter notebook click on the help drop down along the top and select ‘launch classic notebook’ \n"
   ]
  }
 ],
 "metadata": {
  "kernelspec": {
   "display_name": "Bash",
   "language": "bash",
   "name": "bash"
  },
  "language_info": {
   "codemirror_mode": "shell",
   "file_extension": ".sh",
   "mimetype": "text/x-sh",
   "name": "bash"
  }
 },
 "nbformat": 4,
 "nbformat_minor": 2
}
