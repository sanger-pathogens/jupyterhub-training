{
 "cells": [
  {
   "cell_type": "markdown",
   "metadata": {},
   "source": [
    "# JupyterHub Basics \n",
    "\n",
    "This tutorial includes basic skills for using JupyterHub to run the training material. \n",
    "\n",
    "## Navigating Jupyterlab on Jupyterhub \n",
    "When you first log in you will have the JupyterLab interface by default. This should look like the image below. \n",
    "\n",
    "This consists of a main work area containing the _launcher_ [1]. As you open notebooks, files and terminals tabs will open in this area. There is a collapsible left sidebar containing a file browser, the list of running kernels and terminals, the command palette, the notebook cell tools inspector, and the tabs list [3]. Don't worry about this left sidebar too much. Along the top there is also a menu bar [3].\n",
    "\n",
    "<img src=\"../images/jupyterlab_with_launcher.png\" alt=\"Drawing\" style=\"width: 700px;\"/>\n",
    "\n",
    "For more information on this see the documentation [here](https://jupyterlab.readthedocs.io/en/latest/user/interface.html)\n",
    "\n",
    "When you open a notebook a new tab will open in the main work area. The notebook should consist of a mix of text and greyed out boxes called cells. \n",
    "\n",
    "<img src=\"../images/jupyterlab_with_notebook_open.png\" alt=\"Drawing\" style=\"width: 700px;\"/>\n",
    "\n",
    "\n",
    "## Running a cell \n",
    "By defualt you should be in Jupyterlab when you log in. There are several ways of running a cell in this format. The quickest way is to select the cell you would like to run and click `Shift`+`Enter`\n",
    "\n",
    "<img src=\"../images/select_cell.png\" alt=\"Drawing\" style=\"width: 700px;\"/>\n",
    "\n",
    "Or select the cell you would like to run then select _Run -> Run Selected Cells_ from the menu bar. \n",
    "\n",
    "<img src=\"../images/run_selected_cells.png\" alt=\"Drawing\" style=\"width: 700px;\"/>\n",
    "\n",
    "Or select the cell you would like to run and click the play button at the top of the main work area.\n",
    "\n",
    "<img src=\"../images/play_cell.png\" alt=\"Drawing\" style=\"width: 700px;\"/>\n",
    "\n",
    "Pick your favourite method and have a go at running the cell below."
   ]
  },
  {
   "cell_type": "code",
   "execution_count": null,
   "metadata": {},
   "outputs": [],
   "source": [
    "echo \"Hello World! Congratulations, you got your first cell to run\""
   ]
  },
  {
   "cell_type": "markdown",
   "metadata": {},
   "source": [
    "## How to tell when things are running \n",
    "When things are running a `*` symbol will appear in the square brackets to the left of the cell. \n",
    "\n",
    "<img src=\"../images/cell_running.png\" alt=\"Drawing\" style=\"width: 700px;\"/>\n",
    "\n",
    "When this has finished running it will change to a number.\n",
    "\n",
    "<img src=\"../images/cell_completed_running.png\" alt=\"Drawing\" style=\"width: 700px;\"/>\n",
    "\n",
    "Run the below cell to see this work. It should run for 5 seconds."
   ]
  },
  {
   "cell_type": "code",
   "execution_count": null,
   "metadata": {},
   "outputs": [],
   "source": [
    "sleep 5"
   ]
  },
  {
   "cell_type": "markdown",
   "metadata": {},
   "source": [
    "## Adding extra cells\n",
    "To add in extra cells click the `+` button at the top of the jupyternotebook tab. \n",
    "\n",
    "<img src=\"../images/add_cell.png\" alt=\"Drawing\" style=\"width: 700px;\"/>\n",
    "\n",
    "Try adding a new cell below"
   ]
  },
  {
   "cell_type": "markdown",
   "metadata": {},
   "source": [
    "## Removing cells \n",
    "To remove a cell simply click on it and click the scissors at the top of jupyternotebook tab. \n",
    "\n",
    "<img src=\"../images/cut_cell.png\" alt=\"Drawing\" style=\"width: 700px;\"/>\n",
    "\n",
    "Try removing the cell below \n"
   ]
  },
  {
   "cell_type": "code",
   "execution_count": null,
   "metadata": {},
   "outputs": [],
   "source": []
  },
  {
   "cell_type": "markdown",
   "metadata": {},
   "source": [
    "## Clearing the output from your notebook \n",
    "When you are running cells the output will be printed to the notebook. To clear this and any variables that are stored click _Edit -> Clear all Outputs_ in the top bar.\n",
    "\n",
    "<img src=\"../images/clear_output.png\" alt=\"Drawing\" style=\"width: 700px;\"/>"
   ]
  },
  {
   "cell_type": "markdown",
   "metadata": {},
   "source": [
    "## Enable scrolling for outputs \n",
    "Sometimes when you run a command the output may be very long. To make this more readable you can enable scrolling. To do this Right click and select Enable Scrolling for Outputs. \n",
    "<img src=\"../images/enable_scrolling.png\" alt=\"Drawing\" style=\"width: 700px;\"/>\n",
    "Try running the below cell and enable scrolling for the output"
   ]
  },
  {
   "cell_type": "code",
   "execution_count": null,
   "metadata": {},
   "outputs": [],
   "source": [
    "for i in {1..50}\n",
    "do\n",
    " echo $i\n",
    "done"
   ]
  },
  {
   "cell_type": "markdown",
   "metadata": {},
   "source": [
    "## Switching to the jupyter notebook format \n",
    "If you wish to change to the jupyter notebook interface click on the help drop down along the top and select _launch classic notebook_\n",
    "\n",
    "<img src=\"../images/change_to_notebook.png\" alt=\"Drawing\" style=\"width: 700px;\"/>\n",
    "\n",
    "**Note:** All of these notebooks are written assuming that you are using the JupyterLab interface. If you change some of the instructions may not make sense. "
   ]
  },
  {
   "cell_type": "code",
   "execution_count": null,
   "metadata": {},
   "outputs": [],
   "source": []
  }
 ],
 "metadata": {
  "kernelspec": {
   "display_name": "Bash",
   "language": "bash",
   "name": "bash"
  },
  "language_info": {
   "codemirror_mode": "shell",
   "file_extension": ".sh",
   "mimetype": "text/x-sh",
   "name": "bash"
  }
 },
 "nbformat": 4,
 "nbformat_minor": 2
}
